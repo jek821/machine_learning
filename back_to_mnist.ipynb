{
 "cells": [
  {
   "cell_type": "code",
   "execution_count": 1,
   "id": "f81f4591-9820-4610-8bfc-e3901780c76a",
   "metadata": {},
   "outputs": [],
   "source": [
    "import tensorflow as tf \n",
    "from tensorflow import keras \n",
    "from tensorflow.keras import backend as K \n",
    "from tensorflow.keras.datasets import mnist \n",
    "from tensorflow.keras.models import Sequential\n",
    "from tensorflow.keras.layers import Dense, Flatten, Conv2D, MaxPooling2D, Dropout, BatchNormalization, LeakyReLU, Input, ReLU\n",
    "from tensorflow.keras.preprocessing.image import ImageDataGenerator\n",
    "import matplotlib.pyplot as plt\n",
    "import numpy as np \n",
    "from PIL import Image\n",
    "import scipy.io\n",
    "import numpy as np\n",
    "import matplotlib.pyplot as plt\n",
    "import random"
   ]
  },
  {
   "cell_type": "code",
   "execution_count": 2,
   "id": "9da0a7bc-2c7b-469a-885b-fb1cf6a30289",
   "metadata": {},
   "outputs": [],
   "source": [
    "def preprocess_image(image_path, inverted=False):\n",
    "    img = tf.keras.preprocessing.image.load_img(image_path, target_size=(28,28), color_mode = \"grayscale\")\n",
    "    img_arr =  tf.keras.preprocessing.image.img_to_array(img)\n",
    "    img_arr = img_arr.astype(\"float32\")\n",
    "    if inverted == True: \n",
    "        img_arr = 255 - img_arr\n",
    "    img_arr = img_arr / 255\n",
    "    img_arr = img_arr.reshape(1, 28, 28, 1)\n",
    "    return img_arr"
   ]
  },
  {
   "cell_type": "code",
   "execution_count": 3,
   "id": "692bc2f6-1ab2-4f53-ba38-57fa58ec18f0",
   "metadata": {},
   "outputs": [],
   "source": [
    "def show_max_pixel(array, i): \n",
    "    random_image = array[i]\n",
    "    return random_image.max()"
   ]
  },
  {
   "cell_type": "code",
   "execution_count": 4,
   "id": "219ddd96-dc17-42f9-a1eb-bbd07461ad13",
   "metadata": {},
   "outputs": [],
   "source": [
    "def plot_image(array, i, labels): \n",
    "    plt.imshow(np.squeeze(array[i]))\n",
    "    plt.title(f\"Label: {str(labels[i])}\")\n",
    "    plt.xticks([])\n",
    "    plt.yticks([])\n",
    "    plt.show()"
   ]
  },
  {
   "cell_type": "code",
   "execution_count": 5,
   "id": "8b452418-6363-4c0b-99e7-0f02aef1c959",
   "metadata": {},
   "outputs": [],
   "source": [
    "def data_generator(images, labels, batch_size, datagen):\n",
    "    num_samples = len(images)\n",
    "    while True:\n",
    "        indices = tf.range(num_samples)\n",
    "        indices = tf.random.shuffle(indices)\n",
    "        for i in range(0, num_samples, batch_size):\n",
    "            batch_indices = indices[i:i+batch_size]\n",
    "            batch_images = images[batch_indices]\n",
    "            batch_labels = labels[batch_indices]\n",
    "            augmented_images, augmented_labels = next(datagen.flow(batch_images, batch_labels, batch_size=batch_size))\n",
    "            yield augmented_images, augmented_labels"
   ]
  },
  {
   "cell_type": "code",
   "execution_count": 6,
   "id": "598712e9-a3ac-417f-9a55-9140058d3545",
   "metadata": {},
   "outputs": [],
   "source": [
    "(train_images, train_labels), (test_images, test_labels) = mnist.load_data()"
   ]
  },
  {
   "cell_type": "code",
   "execution_count": 7,
   "id": "be69f398-1d13-4d83-a54d-659fbcf6c325",
   "metadata": {},
   "outputs": [],
   "source": [
    "# Calculate the number of validation samples\n",
    "num_validation_samples = int(len(train_images) * 0.1)\n",
    "\n",
    "# Generate a list of random indices\n",
    "indices = list(range(len(train_images)))\n",
    "random.shuffle(indices)\n",
    "\n",
    "# Take the first num_validation_samples indices for validation\n",
    "val_indices = indices[:num_validation_samples]\n",
    "\n",
    "# Extract validation images and labels\n",
    "val_images = train_images[val_indices]\n",
    "val_labels = train_labels[val_indices]\n",
    "\n",
    "# Remove the validation samples from the training set\n",
    "train_images = np.delete(train_images, val_indices, axis=0)\n",
    "train_labels = np.delete(train_labels, val_indices, axis=0)\n"
   ]
  },
  {
   "cell_type": "code",
   "execution_count": 8,
   "id": "44de0edd-06a6-4ea3-bdec-63a0165889b9",
   "metadata": {},
   "outputs": [],
   "source": [
    "num_classes = 10\n",
    "img_height = 28\n",
    "img_width = 28\n",
    "# lets reshape the training and testing images data to add a dimension to account for color (grayscale) \n",
    "train_images = train_images.reshape(train_images.shape[0], img_height, img_width, 1)\n",
    "test_images = test_images.reshape(test_images.shape[0], img_height, img_width, 1)\n",
    "val_images = val_images.reshape(val_images.shape[0], img_height, img_width, 1)\n",
    "# lets make sure that the values of each pixel fall in the range of (0,1)\n",
    "train_images = train_images / 255\n",
    "test_images = test_images / 255\n",
    "val_images = val_images / 255\n",
    "# lets use one hot encoding to prevent the labels of our data from impeding the ability of the model\n",
    "train_labels = keras.utils.to_categorical(train_labels, num_classes)\n",
    "test_labels = keras.utils.to_categorical(test_labels, num_classes)\n",
    "val_labels = keras.utils.to_categorical(val_labels, num_classes)"
   ]
  },
  {
   "cell_type": "code",
   "execution_count": 9,
   "id": "365ff4b0-f25e-469e-a633-c7c743a2353b",
   "metadata": {},
   "outputs": [],
   "source": [
    "epochs = 20\n",
    "dropout_rate = 0.4\n",
    "training_rate = 0.001 # rmsprop and adam defualt = 0.001\n",
    "optimizer = tf.keras.optimizers.RMSprop(learning_rate=training_rate)\n",
    "loss_method = \"categorical_crossentropy\" \n",
    "required_metrics = [\"accuracy\"]\n",
    "batch_size = 32"
   ]
  },
  {
   "cell_type": "code",
   "execution_count": 10,
   "id": "f1aa25ad-a55f-4d25-925b-76100e573a14",
   "metadata": {},
   "outputs": [],
   "source": [
    "# Data augmentation\n",
    "datagen = ImageDataGenerator(\n",
    "    rotation_range=10,\n",
    "    width_shift_range=0.1,\n",
    "    height_shift_range=0.1,\n",
    "    zoom_range=0.1,\n",
    "    horizontal_flip=False\n",
    ")\n",
    "\n",
    "train_data_generator = data_generator(train_images, train_labels, batch_size, datagen)\n",
    "val_data_generator = data_generator(val_images, val_labels, batch_size, datagen)"
   ]
  },
  {
   "cell_type": "code",
   "execution_count": 11,
   "id": "9e746a22-82cd-4e00-9b7d-a5a4e9e2c72b",
   "metadata": {},
   "outputs": [],
   "source": [
    "model = Sequential()\n",
    "model.add(Input(shape=(28, 28, 1)))\n",
    "# First Convolutional Block\n",
    "model.add(Conv2D(32, (3, 3)))\n",
    "model.add(ReLU())\n",
    "model.add(BatchNormalization())\n",
    "\n",
    "\n",
    "# Second Convolutional Block\n",
    "model.add(Conv2D(64, (3, 3)))\n",
    "model.add(ReLU())\n",
    "model.add(MaxPooling2D((2, 2)))\n",
    "model.add(BatchNormalization())\n",
    "\n",
    "# Third Convolutional Block\n",
    "model.add(Conv2D(128, (3, 3)))\n",
    "model.add(ReLU())\n",
    "model.add(BatchNormalization())\n",
    "\n",
    "model.add(Conv2D(128, (3, 3)))\n",
    "model.add(ReLU())\n",
    "model.add(MaxPooling2D((2, 2)))\n",
    "model.add(BatchNormalization())\n",
    "\n",
    "\n",
    "# Flatten the 3D output to 1D tensor\n",
    "model.add(Flatten())\n",
    "model.add(BatchNormalization())\n",
    "\n",
    "# First Dense Block\n",
    "model.add(Dense(512))\n",
    "model.add(ReLU())\n",
    "model.add(BatchNormalization())\n",
    "model.add(Dropout(dropout_rate))\n",
    "\n",
    "# Output Layer\n",
    "model.add(Dense(10, activation='softmax'))  # Assuming 10 classes for output"
   ]
  },
  {
   "cell_type": "code",
   "execution_count": 12,
   "id": "91b707d4-5610-4cb2-94fc-1bca17218f07",
   "metadata": {},
   "outputs": [
    {
     "name": "stdout",
     "output_type": "stream",
     "text": [
      "Epoch 1/20\n",
      "\u001b[1m1687/1687\u001b[0m \u001b[32m━━━━━━━━━━━━━━━━━━━━\u001b[0m\u001b[37m\u001b[0m \u001b[1m53s\u001b[0m 30ms/step - accuracy: 0.8898 - loss: 0.3775 - val_accuracy: 0.9833 - val_loss: 0.0526\n",
      "Epoch 2/20\n",
      "\u001b[1m1687/1687\u001b[0m \u001b[32m━━━━━━━━━━━━━━━━━━━━\u001b[0m\u001b[37m\u001b[0m \u001b[1m55s\u001b[0m 33ms/step - accuracy: 0.9743 - loss: 0.0830 - val_accuracy: 0.9873 - val_loss: 0.0393\n",
      "Epoch 3/20\n",
      "\u001b[1m1687/1687\u001b[0m \u001b[32m━━━━━━━━━━━━━━━━━━━━\u001b[0m\u001b[37m\u001b[0m \u001b[1m54s\u001b[0m 32ms/step - accuracy: 0.9800 - loss: 0.0653 - val_accuracy: 0.9898 - val_loss: 0.0335\n",
      "Epoch 4/20\n",
      "\u001b[1m1687/1687\u001b[0m \u001b[32m━━━━━━━━━━━━━━━━━━━━\u001b[0m\u001b[37m\u001b[0m \u001b[1m54s\u001b[0m 32ms/step - accuracy: 0.9829 - loss: 0.0606 - val_accuracy: 0.9894 - val_loss: 0.0397\n",
      "Epoch 5/20\n",
      "\u001b[1m1687/1687\u001b[0m \u001b[32m━━━━━━━━━━━━━━━━━━━━\u001b[0m\u001b[37m\u001b[0m \u001b[1m56s\u001b[0m 33ms/step - accuracy: 0.9856 - loss: 0.0488 - val_accuracy: 0.9903 - val_loss: 0.0289\n",
      "Epoch 6/20\n",
      "\u001b[1m1687/1687\u001b[0m \u001b[32m━━━━━━━━━━━━━━━━━━━━\u001b[0m\u001b[37m\u001b[0m \u001b[1m57s\u001b[0m 34ms/step - accuracy: 0.9861 - loss: 0.0465 - val_accuracy: 0.9916 - val_loss: 0.0335\n",
      "Epoch 7/20\n",
      "\u001b[1m1687/1687\u001b[0m \u001b[32m━━━━━━━━━━━━━━━━━━━━\u001b[0m\u001b[37m\u001b[0m \u001b[1m54s\u001b[0m 32ms/step - accuracy: 0.9862 - loss: 0.0475 - val_accuracy: 0.9933 - val_loss: 0.0311\n",
      "Epoch 8/20\n",
      "\u001b[1m1687/1687\u001b[0m \u001b[32m━━━━━━━━━━━━━━━━━━━━\u001b[0m\u001b[37m\u001b[0m \u001b[1m55s\u001b[0m 32ms/step - accuracy: 0.9882 - loss: 0.0431 - val_accuracy: 0.9906 - val_loss: 0.0324\n",
      "Epoch 9/20\n",
      "\u001b[1m1687/1687\u001b[0m \u001b[32m━━━━━━━━━━━━━━━━━━━━\u001b[0m\u001b[37m\u001b[0m \u001b[1m54s\u001b[0m 32ms/step - accuracy: 0.9885 - loss: 0.0400 - val_accuracy: 0.9899 - val_loss: 0.0435\n",
      "Epoch 10/20\n",
      "\u001b[1m1687/1687\u001b[0m \u001b[32m━━━━━━━━━━━━━━━━━━━━\u001b[0m\u001b[37m\u001b[0m \u001b[1m54s\u001b[0m 32ms/step - accuracy: 0.9892 - loss: 0.0399 - val_accuracy: 0.9933 - val_loss: 0.0263\n",
      "Epoch 11/20\n",
      "\u001b[1m1687/1687\u001b[0m \u001b[32m━━━━━━━━━━━━━━━━━━━━\u001b[0m\u001b[37m\u001b[0m \u001b[1m55s\u001b[0m 32ms/step - accuracy: 0.9884 - loss: 0.0406 - val_accuracy: 0.9931 - val_loss: 0.0345\n",
      "Epoch 12/20\n",
      "\u001b[1m1687/1687\u001b[0m \u001b[32m━━━━━━━━━━━━━━━━━━━━\u001b[0m\u001b[37m\u001b[0m \u001b[1m55s\u001b[0m 32ms/step - accuracy: 0.9897 - loss: 0.0365 - val_accuracy: 0.9946 - val_loss: 0.0276\n",
      "Epoch 13/20\n",
      "\u001b[1m1687/1687\u001b[0m \u001b[32m━━━━━━━━━━━━━━━━━━━━\u001b[0m\u001b[37m\u001b[0m \u001b[1m55s\u001b[0m 32ms/step - accuracy: 0.9899 - loss: 0.0400 - val_accuracy: 0.9943 - val_loss: 0.0231\n",
      "Epoch 14/20\n",
      "\u001b[1m1687/1687\u001b[0m \u001b[32m━━━━━━━━━━━━━━━━━━━━\u001b[0m\u001b[37m\u001b[0m \u001b[1m55s\u001b[0m 32ms/step - accuracy: 0.9895 - loss: 0.0368 - val_accuracy: 0.9936 - val_loss: 0.0233\n",
      "Epoch 15/20\n",
      "\u001b[1m1687/1687\u001b[0m \u001b[32m━━━━━━━━━━━━━━━━━━━━\u001b[0m\u001b[37m\u001b[0m \u001b[1m55s\u001b[0m 33ms/step - accuracy: 0.9912 - loss: 0.0311 - val_accuracy: 0.9931 - val_loss: 0.0317\n",
      "Epoch 16/20\n",
      "\u001b[1m1687/1687\u001b[0m \u001b[32m━━━━━━━━━━━━━━━━━━━━\u001b[0m\u001b[37m\u001b[0m \u001b[1m55s\u001b[0m 33ms/step - accuracy: 0.9916 - loss: 0.0300 - val_accuracy: 0.9940 - val_loss: 0.0280\n",
      "Epoch 17/20\n",
      "\u001b[1m1687/1687\u001b[0m \u001b[32m━━━━━━━━━━━━━━━━━━━━\u001b[0m\u001b[37m\u001b[0m \u001b[1m55s\u001b[0m 33ms/step - accuracy: 0.9911 - loss: 0.0304 - val_accuracy: 0.9938 - val_loss: 0.0199\n",
      "Epoch 18/20\n",
      "\u001b[1m1687/1687\u001b[0m \u001b[32m━━━━━━━━━━━━━━━━━━━━\u001b[0m\u001b[37m\u001b[0m \u001b[1m55s\u001b[0m 33ms/step - accuracy: 0.9905 - loss: 0.0347 - val_accuracy: 0.9923 - val_loss: 0.0309\n",
      "Epoch 19/20\n",
      "\u001b[1m1687/1687\u001b[0m \u001b[32m━━━━━━━━━━━━━━━━━━━━\u001b[0m\u001b[37m\u001b[0m \u001b[1m55s\u001b[0m 33ms/step - accuracy: 0.9914 - loss: 0.0332 - val_accuracy: 0.9948 - val_loss: 0.0222\n",
      "Epoch 20/20\n",
      "\u001b[1m1687/1687\u001b[0m \u001b[32m━━━━━━━━━━━━━━━━━━━━\u001b[0m\u001b[37m\u001b[0m \u001b[1m55s\u001b[0m 33ms/step - accuracy: 0.9914 - loss: 0.0309 - val_accuracy: 0.9930 - val_loss: 0.0294\n"
     ]
    }
   ],
   "source": [
    "# Now Compile the model \n",
    "model.compile(loss=loss_method, optimizer=optimizer, metrics=required_metrics)\n",
    "history =  model.fit(train_data_generator,\n",
    "                     steps_per_epoch=len(train_images)//batch_size,\n",
    "                     epochs=epochs,\n",
    "                     validation_data=val_data_generator,\n",
    "                     validation_steps=len(val_images)//batch_size)"
   ]
  },
  {
   "cell_type": "code",
   "execution_count": 13,
   "id": "89991d09-2bdb-41b8-ba36-9b4e81cc6fcc",
   "metadata": {},
   "outputs": [
    {
     "name": "stdout",
     "output_type": "stream",
     "text": [
      "313/313 - 3s - 8ms/step - accuracy: 0.9946 - loss: 0.0246\n"
     ]
    }
   ],
   "source": [
    "test_loss, test_accuracy = model.evaluate(test_images, test_labels, verbose=2)"
   ]
  },
  {
   "cell_type": "code",
   "execution_count": 14,
   "id": "35e1cd13-c8e0-456e-92ef-cab43d880ddf",
   "metadata": {},
   "outputs": [],
   "source": [
    "# Lets make a string to summarize our model's features and evaluation metrics\n",
    "from IPython.display import Markdown\n",
    "final_train_loss = history.history['loss'][-1]\n",
    "final_train_accuracy = history.history['accuracy'][-1]\n",
    "learning_rate_str = format(training_rate, \"f\").rstrip('0').rstrip('.')\n",
    "evaluation = f\"\"\"\n",
    "**Num Epochs:** {epochs}<br>\n",
    "**Batch Size:** {batch_size}<br>\n",
    "**Training Rate:** {learning_rate_str}<br>\n",
    "**Dropout Rate:** {dropout_rate}<br>\n",
    "**Loss Method:** {loss_method}<br>\n",
    "**Final Training Accuracy:** {final_train_accuracy*100:.2f}%<br>\n",
    "**Final Training Loss:** {final_train_loss*100:.2f}%<br>\n",
    "**Test Accuracy:** {test_accuracy*100:.2f}%<br>\n",
    "**Test Loss:** {test_loss*100:.2f}%\n",
    "\"\"\""
   ]
  },
  {
   "cell_type": "code",
   "execution_count": 15,
   "id": "c68acab9-16fd-42c0-81f0-5faad066cb9c",
   "metadata": {},
   "outputs": [
    {
     "data": {
      "text/markdown": [
       "\n",
       "**Num Epochs:** 20<br>\n",
       "**Batch Size:** 32<br>\n",
       "**Training Rate:** 0.001<br>\n",
       "**Dropout Rate:** 0.4<br>\n",
       "**Loss Method:** categorical_crossentropy<br>\n",
       "**Final Training Accuracy:** 99.10%<br>\n",
       "**Final Training Loss:** 3.26%<br>\n",
       "**Test Accuracy:** 99.46%<br>\n",
       "**Test Loss:** 2.46%\n"
      ],
      "text/plain": [
       "<IPython.core.display.Markdown object>"
      ]
     },
     "execution_count": 15,
     "metadata": {},
     "output_type": "execute_result"
    }
   ],
   "source": [
    "Markdown(evaluation)"
   ]
  },
  {
   "cell_type": "code",
   "execution_count": 16,
   "id": "cce461a7-79da-4759-b640-e90882ef44ae",
   "metadata": {},
   "outputs": [
    {
     "data": {
      "text/html": [
       "<pre style=\"white-space:pre;overflow-x:auto;line-height:normal;font-family:Menlo,'DejaVu Sans Mono',consolas,'Courier New',monospace\"><span style=\"font-weight: bold\">Model: \"sequential\"</span>\n",
       "</pre>\n"
      ],
      "text/plain": [
       "\u001b[1mModel: \"sequential\"\u001b[0m\n"
      ]
     },
     "metadata": {},
     "output_type": "display_data"
    },
    {
     "data": {
      "text/html": [
       "<pre style=\"white-space:pre;overflow-x:auto;line-height:normal;font-family:Menlo,'DejaVu Sans Mono',consolas,'Courier New',monospace\">┏━━━━━━━━━━━━━━━━━━━━━━━━━━━━━━━━━━━━━━┳━━━━━━━━━━━━━━━━━━━━━━━━━━━━━┳━━━━━━━━━━━━━━━━━┓\n",
       "┃<span style=\"font-weight: bold\"> Layer (type)                         </span>┃<span style=\"font-weight: bold\"> Output Shape                </span>┃<span style=\"font-weight: bold\">         Param # </span>┃\n",
       "┡━━━━━━━━━━━━━━━━━━━━━━━━━━━━━━━━━━━━━━╇━━━━━━━━━━━━━━━━━━━━━━━━━━━━━╇━━━━━━━━━━━━━━━━━┩\n",
       "│ conv2d (<span style=\"color: #0087ff; text-decoration-color: #0087ff\">Conv2D</span>)                      │ (<span style=\"color: #00d7ff; text-decoration-color: #00d7ff\">None</span>, <span style=\"color: #00af00; text-decoration-color: #00af00\">26</span>, <span style=\"color: #00af00; text-decoration-color: #00af00\">26</span>, <span style=\"color: #00af00; text-decoration-color: #00af00\">32</span>)          │             <span style=\"color: #00af00; text-decoration-color: #00af00\">320</span> │\n",
       "├──────────────────────────────────────┼─────────────────────────────┼─────────────────┤\n",
       "│ re_lu (<span style=\"color: #0087ff; text-decoration-color: #0087ff\">ReLU</span>)                         │ (<span style=\"color: #00d7ff; text-decoration-color: #00d7ff\">None</span>, <span style=\"color: #00af00; text-decoration-color: #00af00\">26</span>, <span style=\"color: #00af00; text-decoration-color: #00af00\">26</span>, <span style=\"color: #00af00; text-decoration-color: #00af00\">32</span>)          │               <span style=\"color: #00af00; text-decoration-color: #00af00\">0</span> │\n",
       "├──────────────────────────────────────┼─────────────────────────────┼─────────────────┤\n",
       "│ batch_normalization                  │ (<span style=\"color: #00d7ff; text-decoration-color: #00d7ff\">None</span>, <span style=\"color: #00af00; text-decoration-color: #00af00\">26</span>, <span style=\"color: #00af00; text-decoration-color: #00af00\">26</span>, <span style=\"color: #00af00; text-decoration-color: #00af00\">32</span>)          │             <span style=\"color: #00af00; text-decoration-color: #00af00\">128</span> │\n",
       "│ (<span style=\"color: #0087ff; text-decoration-color: #0087ff\">BatchNormalization</span>)                 │                             │                 │\n",
       "├──────────────────────────────────────┼─────────────────────────────┼─────────────────┤\n",
       "│ conv2d_1 (<span style=\"color: #0087ff; text-decoration-color: #0087ff\">Conv2D</span>)                    │ (<span style=\"color: #00d7ff; text-decoration-color: #00d7ff\">None</span>, <span style=\"color: #00af00; text-decoration-color: #00af00\">24</span>, <span style=\"color: #00af00; text-decoration-color: #00af00\">24</span>, <span style=\"color: #00af00; text-decoration-color: #00af00\">64</span>)          │          <span style=\"color: #00af00; text-decoration-color: #00af00\">18,496</span> │\n",
       "├──────────────────────────────────────┼─────────────────────────────┼─────────────────┤\n",
       "│ re_lu_1 (<span style=\"color: #0087ff; text-decoration-color: #0087ff\">ReLU</span>)                       │ (<span style=\"color: #00d7ff; text-decoration-color: #00d7ff\">None</span>, <span style=\"color: #00af00; text-decoration-color: #00af00\">24</span>, <span style=\"color: #00af00; text-decoration-color: #00af00\">24</span>, <span style=\"color: #00af00; text-decoration-color: #00af00\">64</span>)          │               <span style=\"color: #00af00; text-decoration-color: #00af00\">0</span> │\n",
       "├──────────────────────────────────────┼─────────────────────────────┼─────────────────┤\n",
       "│ max_pooling2d (<span style=\"color: #0087ff; text-decoration-color: #0087ff\">MaxPooling2D</span>)         │ (<span style=\"color: #00d7ff; text-decoration-color: #00d7ff\">None</span>, <span style=\"color: #00af00; text-decoration-color: #00af00\">12</span>, <span style=\"color: #00af00; text-decoration-color: #00af00\">12</span>, <span style=\"color: #00af00; text-decoration-color: #00af00\">64</span>)          │               <span style=\"color: #00af00; text-decoration-color: #00af00\">0</span> │\n",
       "├──────────────────────────────────────┼─────────────────────────────┼─────────────────┤\n",
       "│ batch_normalization_1                │ (<span style=\"color: #00d7ff; text-decoration-color: #00d7ff\">None</span>, <span style=\"color: #00af00; text-decoration-color: #00af00\">12</span>, <span style=\"color: #00af00; text-decoration-color: #00af00\">12</span>, <span style=\"color: #00af00; text-decoration-color: #00af00\">64</span>)          │             <span style=\"color: #00af00; text-decoration-color: #00af00\">256</span> │\n",
       "│ (<span style=\"color: #0087ff; text-decoration-color: #0087ff\">BatchNormalization</span>)                 │                             │                 │\n",
       "├──────────────────────────────────────┼─────────────────────────────┼─────────────────┤\n",
       "│ conv2d_2 (<span style=\"color: #0087ff; text-decoration-color: #0087ff\">Conv2D</span>)                    │ (<span style=\"color: #00d7ff; text-decoration-color: #00d7ff\">None</span>, <span style=\"color: #00af00; text-decoration-color: #00af00\">10</span>, <span style=\"color: #00af00; text-decoration-color: #00af00\">10</span>, <span style=\"color: #00af00; text-decoration-color: #00af00\">128</span>)         │          <span style=\"color: #00af00; text-decoration-color: #00af00\">73,856</span> │\n",
       "├──────────────────────────────────────┼─────────────────────────────┼─────────────────┤\n",
       "│ re_lu_2 (<span style=\"color: #0087ff; text-decoration-color: #0087ff\">ReLU</span>)                       │ (<span style=\"color: #00d7ff; text-decoration-color: #00d7ff\">None</span>, <span style=\"color: #00af00; text-decoration-color: #00af00\">10</span>, <span style=\"color: #00af00; text-decoration-color: #00af00\">10</span>, <span style=\"color: #00af00; text-decoration-color: #00af00\">128</span>)         │               <span style=\"color: #00af00; text-decoration-color: #00af00\">0</span> │\n",
       "├──────────────────────────────────────┼─────────────────────────────┼─────────────────┤\n",
       "│ batch_normalization_2                │ (<span style=\"color: #00d7ff; text-decoration-color: #00d7ff\">None</span>, <span style=\"color: #00af00; text-decoration-color: #00af00\">10</span>, <span style=\"color: #00af00; text-decoration-color: #00af00\">10</span>, <span style=\"color: #00af00; text-decoration-color: #00af00\">128</span>)         │             <span style=\"color: #00af00; text-decoration-color: #00af00\">512</span> │\n",
       "│ (<span style=\"color: #0087ff; text-decoration-color: #0087ff\">BatchNormalization</span>)                 │                             │                 │\n",
       "├──────────────────────────────────────┼─────────────────────────────┼─────────────────┤\n",
       "│ conv2d_3 (<span style=\"color: #0087ff; text-decoration-color: #0087ff\">Conv2D</span>)                    │ (<span style=\"color: #00d7ff; text-decoration-color: #00d7ff\">None</span>, <span style=\"color: #00af00; text-decoration-color: #00af00\">8</span>, <span style=\"color: #00af00; text-decoration-color: #00af00\">8</span>, <span style=\"color: #00af00; text-decoration-color: #00af00\">128</span>)           │         <span style=\"color: #00af00; text-decoration-color: #00af00\">147,584</span> │\n",
       "├──────────────────────────────────────┼─────────────────────────────┼─────────────────┤\n",
       "│ re_lu_3 (<span style=\"color: #0087ff; text-decoration-color: #0087ff\">ReLU</span>)                       │ (<span style=\"color: #00d7ff; text-decoration-color: #00d7ff\">None</span>, <span style=\"color: #00af00; text-decoration-color: #00af00\">8</span>, <span style=\"color: #00af00; text-decoration-color: #00af00\">8</span>, <span style=\"color: #00af00; text-decoration-color: #00af00\">128</span>)           │               <span style=\"color: #00af00; text-decoration-color: #00af00\">0</span> │\n",
       "├──────────────────────────────────────┼─────────────────────────────┼─────────────────┤\n",
       "│ max_pooling2d_1 (<span style=\"color: #0087ff; text-decoration-color: #0087ff\">MaxPooling2D</span>)       │ (<span style=\"color: #00d7ff; text-decoration-color: #00d7ff\">None</span>, <span style=\"color: #00af00; text-decoration-color: #00af00\">4</span>, <span style=\"color: #00af00; text-decoration-color: #00af00\">4</span>, <span style=\"color: #00af00; text-decoration-color: #00af00\">128</span>)           │               <span style=\"color: #00af00; text-decoration-color: #00af00\">0</span> │\n",
       "├──────────────────────────────────────┼─────────────────────────────┼─────────────────┤\n",
       "│ batch_normalization_3                │ (<span style=\"color: #00d7ff; text-decoration-color: #00d7ff\">None</span>, <span style=\"color: #00af00; text-decoration-color: #00af00\">4</span>, <span style=\"color: #00af00; text-decoration-color: #00af00\">4</span>, <span style=\"color: #00af00; text-decoration-color: #00af00\">128</span>)           │             <span style=\"color: #00af00; text-decoration-color: #00af00\">512</span> │\n",
       "│ (<span style=\"color: #0087ff; text-decoration-color: #0087ff\">BatchNormalization</span>)                 │                             │                 │\n",
       "├──────────────────────────────────────┼─────────────────────────────┼─────────────────┤\n",
       "│ flatten (<span style=\"color: #0087ff; text-decoration-color: #0087ff\">Flatten</span>)                    │ (<span style=\"color: #00d7ff; text-decoration-color: #00d7ff\">None</span>, <span style=\"color: #00af00; text-decoration-color: #00af00\">2048</span>)                │               <span style=\"color: #00af00; text-decoration-color: #00af00\">0</span> │\n",
       "├──────────────────────────────────────┼─────────────────────────────┼─────────────────┤\n",
       "│ batch_normalization_4                │ (<span style=\"color: #00d7ff; text-decoration-color: #00d7ff\">None</span>, <span style=\"color: #00af00; text-decoration-color: #00af00\">2048</span>)                │           <span style=\"color: #00af00; text-decoration-color: #00af00\">8,192</span> │\n",
       "│ (<span style=\"color: #0087ff; text-decoration-color: #0087ff\">BatchNormalization</span>)                 │                             │                 │\n",
       "├──────────────────────────────────────┼─────────────────────────────┼─────────────────┤\n",
       "│ dense (<span style=\"color: #0087ff; text-decoration-color: #0087ff\">Dense</span>)                        │ (<span style=\"color: #00d7ff; text-decoration-color: #00d7ff\">None</span>, <span style=\"color: #00af00; text-decoration-color: #00af00\">512</span>)                 │       <span style=\"color: #00af00; text-decoration-color: #00af00\">1,049,088</span> │\n",
       "├──────────────────────────────────────┼─────────────────────────────┼─────────────────┤\n",
       "│ re_lu_4 (<span style=\"color: #0087ff; text-decoration-color: #0087ff\">ReLU</span>)                       │ (<span style=\"color: #00d7ff; text-decoration-color: #00d7ff\">None</span>, <span style=\"color: #00af00; text-decoration-color: #00af00\">512</span>)                 │               <span style=\"color: #00af00; text-decoration-color: #00af00\">0</span> │\n",
       "├──────────────────────────────────────┼─────────────────────────────┼─────────────────┤\n",
       "│ batch_normalization_5                │ (<span style=\"color: #00d7ff; text-decoration-color: #00d7ff\">None</span>, <span style=\"color: #00af00; text-decoration-color: #00af00\">512</span>)                 │           <span style=\"color: #00af00; text-decoration-color: #00af00\">2,048</span> │\n",
       "│ (<span style=\"color: #0087ff; text-decoration-color: #0087ff\">BatchNormalization</span>)                 │                             │                 │\n",
       "├──────────────────────────────────────┼─────────────────────────────┼─────────────────┤\n",
       "│ dropout (<span style=\"color: #0087ff; text-decoration-color: #0087ff\">Dropout</span>)                    │ (<span style=\"color: #00d7ff; text-decoration-color: #00d7ff\">None</span>, <span style=\"color: #00af00; text-decoration-color: #00af00\">512</span>)                 │               <span style=\"color: #00af00; text-decoration-color: #00af00\">0</span> │\n",
       "├──────────────────────────────────────┼─────────────────────────────┼─────────────────┤\n",
       "│ dense_1 (<span style=\"color: #0087ff; text-decoration-color: #0087ff\">Dense</span>)                      │ (<span style=\"color: #00d7ff; text-decoration-color: #00d7ff\">None</span>, <span style=\"color: #00af00; text-decoration-color: #00af00\">10</span>)                  │           <span style=\"color: #00af00; text-decoration-color: #00af00\">5,130</span> │\n",
       "└──────────────────────────────────────┴─────────────────────────────┴─────────────────┘\n",
       "</pre>\n"
      ],
      "text/plain": [
       "┏━━━━━━━━━━━━━━━━━━━━━━━━━━━━━━━━━━━━━━┳━━━━━━━━━━━━━━━━━━━━━━━━━━━━━┳━━━━━━━━━━━━━━━━━┓\n",
       "┃\u001b[1m \u001b[0m\u001b[1mLayer (type)                        \u001b[0m\u001b[1m \u001b[0m┃\u001b[1m \u001b[0m\u001b[1mOutput Shape               \u001b[0m\u001b[1m \u001b[0m┃\u001b[1m \u001b[0m\u001b[1m        Param #\u001b[0m\u001b[1m \u001b[0m┃\n",
       "┡━━━━━━━━━━━━━━━━━━━━━━━━━━━━━━━━━━━━━━╇━━━━━━━━━━━━━━━━━━━━━━━━━━━━━╇━━━━━━━━━━━━━━━━━┩\n",
       "│ conv2d (\u001b[38;5;33mConv2D\u001b[0m)                      │ (\u001b[38;5;45mNone\u001b[0m, \u001b[38;5;34m26\u001b[0m, \u001b[38;5;34m26\u001b[0m, \u001b[38;5;34m32\u001b[0m)          │             \u001b[38;5;34m320\u001b[0m │\n",
       "├──────────────────────────────────────┼─────────────────────────────┼─────────────────┤\n",
       "│ re_lu (\u001b[38;5;33mReLU\u001b[0m)                         │ (\u001b[38;5;45mNone\u001b[0m, \u001b[38;5;34m26\u001b[0m, \u001b[38;5;34m26\u001b[0m, \u001b[38;5;34m32\u001b[0m)          │               \u001b[38;5;34m0\u001b[0m │\n",
       "├──────────────────────────────────────┼─────────────────────────────┼─────────────────┤\n",
       "│ batch_normalization                  │ (\u001b[38;5;45mNone\u001b[0m, \u001b[38;5;34m26\u001b[0m, \u001b[38;5;34m26\u001b[0m, \u001b[38;5;34m32\u001b[0m)          │             \u001b[38;5;34m128\u001b[0m │\n",
       "│ (\u001b[38;5;33mBatchNormalization\u001b[0m)                 │                             │                 │\n",
       "├──────────────────────────────────────┼─────────────────────────────┼─────────────────┤\n",
       "│ conv2d_1 (\u001b[38;5;33mConv2D\u001b[0m)                    │ (\u001b[38;5;45mNone\u001b[0m, \u001b[38;5;34m24\u001b[0m, \u001b[38;5;34m24\u001b[0m, \u001b[38;5;34m64\u001b[0m)          │          \u001b[38;5;34m18,496\u001b[0m │\n",
       "├──────────────────────────────────────┼─────────────────────────────┼─────────────────┤\n",
       "│ re_lu_1 (\u001b[38;5;33mReLU\u001b[0m)                       │ (\u001b[38;5;45mNone\u001b[0m, \u001b[38;5;34m24\u001b[0m, \u001b[38;5;34m24\u001b[0m, \u001b[38;5;34m64\u001b[0m)          │               \u001b[38;5;34m0\u001b[0m │\n",
       "├──────────────────────────────────────┼─────────────────────────────┼─────────────────┤\n",
       "│ max_pooling2d (\u001b[38;5;33mMaxPooling2D\u001b[0m)         │ (\u001b[38;5;45mNone\u001b[0m, \u001b[38;5;34m12\u001b[0m, \u001b[38;5;34m12\u001b[0m, \u001b[38;5;34m64\u001b[0m)          │               \u001b[38;5;34m0\u001b[0m │\n",
       "├──────────────────────────────────────┼─────────────────────────────┼─────────────────┤\n",
       "│ batch_normalization_1                │ (\u001b[38;5;45mNone\u001b[0m, \u001b[38;5;34m12\u001b[0m, \u001b[38;5;34m12\u001b[0m, \u001b[38;5;34m64\u001b[0m)          │             \u001b[38;5;34m256\u001b[0m │\n",
       "│ (\u001b[38;5;33mBatchNormalization\u001b[0m)                 │                             │                 │\n",
       "├──────────────────────────────────────┼─────────────────────────────┼─────────────────┤\n",
       "│ conv2d_2 (\u001b[38;5;33mConv2D\u001b[0m)                    │ (\u001b[38;5;45mNone\u001b[0m, \u001b[38;5;34m10\u001b[0m, \u001b[38;5;34m10\u001b[0m, \u001b[38;5;34m128\u001b[0m)         │          \u001b[38;5;34m73,856\u001b[0m │\n",
       "├──────────────────────────────────────┼─────────────────────────────┼─────────────────┤\n",
       "│ re_lu_2 (\u001b[38;5;33mReLU\u001b[0m)                       │ (\u001b[38;5;45mNone\u001b[0m, \u001b[38;5;34m10\u001b[0m, \u001b[38;5;34m10\u001b[0m, \u001b[38;5;34m128\u001b[0m)         │               \u001b[38;5;34m0\u001b[0m │\n",
       "├──────────────────────────────────────┼─────────────────────────────┼─────────────────┤\n",
       "│ batch_normalization_2                │ (\u001b[38;5;45mNone\u001b[0m, \u001b[38;5;34m10\u001b[0m, \u001b[38;5;34m10\u001b[0m, \u001b[38;5;34m128\u001b[0m)         │             \u001b[38;5;34m512\u001b[0m │\n",
       "│ (\u001b[38;5;33mBatchNormalization\u001b[0m)                 │                             │                 │\n",
       "├──────────────────────────────────────┼─────────────────────────────┼─────────────────┤\n",
       "│ conv2d_3 (\u001b[38;5;33mConv2D\u001b[0m)                    │ (\u001b[38;5;45mNone\u001b[0m, \u001b[38;5;34m8\u001b[0m, \u001b[38;5;34m8\u001b[0m, \u001b[38;5;34m128\u001b[0m)           │         \u001b[38;5;34m147,584\u001b[0m │\n",
       "├──────────────────────────────────────┼─────────────────────────────┼─────────────────┤\n",
       "│ re_lu_3 (\u001b[38;5;33mReLU\u001b[0m)                       │ (\u001b[38;5;45mNone\u001b[0m, \u001b[38;5;34m8\u001b[0m, \u001b[38;5;34m8\u001b[0m, \u001b[38;5;34m128\u001b[0m)           │               \u001b[38;5;34m0\u001b[0m │\n",
       "├──────────────────────────────────────┼─────────────────────────────┼─────────────────┤\n",
       "│ max_pooling2d_1 (\u001b[38;5;33mMaxPooling2D\u001b[0m)       │ (\u001b[38;5;45mNone\u001b[0m, \u001b[38;5;34m4\u001b[0m, \u001b[38;5;34m4\u001b[0m, \u001b[38;5;34m128\u001b[0m)           │               \u001b[38;5;34m0\u001b[0m │\n",
       "├──────────────────────────────────────┼─────────────────────────────┼─────────────────┤\n",
       "│ batch_normalization_3                │ (\u001b[38;5;45mNone\u001b[0m, \u001b[38;5;34m4\u001b[0m, \u001b[38;5;34m4\u001b[0m, \u001b[38;5;34m128\u001b[0m)           │             \u001b[38;5;34m512\u001b[0m │\n",
       "│ (\u001b[38;5;33mBatchNormalization\u001b[0m)                 │                             │                 │\n",
       "├──────────────────────────────────────┼─────────────────────────────┼─────────────────┤\n",
       "│ flatten (\u001b[38;5;33mFlatten\u001b[0m)                    │ (\u001b[38;5;45mNone\u001b[0m, \u001b[38;5;34m2048\u001b[0m)                │               \u001b[38;5;34m0\u001b[0m │\n",
       "├──────────────────────────────────────┼─────────────────────────────┼─────────────────┤\n",
       "│ batch_normalization_4                │ (\u001b[38;5;45mNone\u001b[0m, \u001b[38;5;34m2048\u001b[0m)                │           \u001b[38;5;34m8,192\u001b[0m │\n",
       "│ (\u001b[38;5;33mBatchNormalization\u001b[0m)                 │                             │                 │\n",
       "├──────────────────────────────────────┼─────────────────────────────┼─────────────────┤\n",
       "│ dense (\u001b[38;5;33mDense\u001b[0m)                        │ (\u001b[38;5;45mNone\u001b[0m, \u001b[38;5;34m512\u001b[0m)                 │       \u001b[38;5;34m1,049,088\u001b[0m │\n",
       "├──────────────────────────────────────┼─────────────────────────────┼─────────────────┤\n",
       "│ re_lu_4 (\u001b[38;5;33mReLU\u001b[0m)                       │ (\u001b[38;5;45mNone\u001b[0m, \u001b[38;5;34m512\u001b[0m)                 │               \u001b[38;5;34m0\u001b[0m │\n",
       "├──────────────────────────────────────┼─────────────────────────────┼─────────────────┤\n",
       "│ batch_normalization_5                │ (\u001b[38;5;45mNone\u001b[0m, \u001b[38;5;34m512\u001b[0m)                 │           \u001b[38;5;34m2,048\u001b[0m │\n",
       "│ (\u001b[38;5;33mBatchNormalization\u001b[0m)                 │                             │                 │\n",
       "├──────────────────────────────────────┼─────────────────────────────┼─────────────────┤\n",
       "│ dropout (\u001b[38;5;33mDropout\u001b[0m)                    │ (\u001b[38;5;45mNone\u001b[0m, \u001b[38;5;34m512\u001b[0m)                 │               \u001b[38;5;34m0\u001b[0m │\n",
       "├──────────────────────────────────────┼─────────────────────────────┼─────────────────┤\n",
       "│ dense_1 (\u001b[38;5;33mDense\u001b[0m)                      │ (\u001b[38;5;45mNone\u001b[0m, \u001b[38;5;34m10\u001b[0m)                  │           \u001b[38;5;34m5,130\u001b[0m │\n",
       "└──────────────────────────────────────┴─────────────────────────────┴─────────────────┘\n"
      ]
     },
     "metadata": {},
     "output_type": "display_data"
    },
    {
     "data": {
      "text/html": [
       "<pre style=\"white-space:pre;overflow-x:auto;line-height:normal;font-family:Menlo,'DejaVu Sans Mono',consolas,'Courier New',monospace\"><span style=\"font-weight: bold\"> Total params: </span><span style=\"color: #00af00; text-decoration-color: #00af00\">2,606,422</span> (9.94 MB)\n",
       "</pre>\n"
      ],
      "text/plain": [
       "\u001b[1m Total params: \u001b[0m\u001b[38;5;34m2,606,422\u001b[0m (9.94 MB)\n"
      ]
     },
     "metadata": {},
     "output_type": "display_data"
    },
    {
     "data": {
      "text/html": [
       "<pre style=\"white-space:pre;overflow-x:auto;line-height:normal;font-family:Menlo,'DejaVu Sans Mono',consolas,'Courier New',monospace\"><span style=\"font-weight: bold\"> Trainable params: </span><span style=\"color: #00af00; text-decoration-color: #00af00\">1,300,298</span> (4.96 MB)\n",
       "</pre>\n"
      ],
      "text/plain": [
       "\u001b[1m Trainable params: \u001b[0m\u001b[38;5;34m1,300,298\u001b[0m (4.96 MB)\n"
      ]
     },
     "metadata": {},
     "output_type": "display_data"
    },
    {
     "data": {
      "text/html": [
       "<pre style=\"white-space:pre;overflow-x:auto;line-height:normal;font-family:Menlo,'DejaVu Sans Mono',consolas,'Courier New',monospace\"><span style=\"font-weight: bold\"> Non-trainable params: </span><span style=\"color: #00af00; text-decoration-color: #00af00\">5,824</span> (22.75 KB)\n",
       "</pre>\n"
      ],
      "text/plain": [
       "\u001b[1m Non-trainable params: \u001b[0m\u001b[38;5;34m5,824\u001b[0m (22.75 KB)\n"
      ]
     },
     "metadata": {},
     "output_type": "display_data"
    },
    {
     "data": {
      "text/html": [
       "<pre style=\"white-space:pre;overflow-x:auto;line-height:normal;font-family:Menlo,'DejaVu Sans Mono',consolas,'Courier New',monospace\"><span style=\"font-weight: bold\"> Optimizer params: </span><span style=\"color: #00af00; text-decoration-color: #00af00\">1,300,300</span> (4.96 MB)\n",
       "</pre>\n"
      ],
      "text/plain": [
       "\u001b[1m Optimizer params: \u001b[0m\u001b[38;5;34m1,300,300\u001b[0m (4.96 MB)\n"
      ]
     },
     "metadata": {},
     "output_type": "display_data"
    }
   ],
   "source": [
    "model.summary()"
   ]
  },
  {
   "cell_type": "code",
   "execution_count": 17,
   "id": "3d68fd3c-93e9-48b9-bb97-bb7ce81d4853",
   "metadata": {},
   "outputs": [],
   "source": [
    "# preprocess test images\n",
    "test_0w = preprocess_image(\"./final_test_images/0w.jpg\")\n",
    "test_0d = preprocess_image(\"./final_test_images/0d.png\")\n",
    "test_0w_inv = preprocess_image(\"./final_test_images/0w.jpg\", inverted=True)\n",
    "test_0d_inv = preprocess_image(\"./final_test_images/0d.png\", inverted=True)\n",
    "\n",
    "test_1w = preprocess_image(\"./final_test_images/1w.jpg\")\n",
    "test_1d = preprocess_image(\"./final_test_images/1d.png\")\n",
    "test_1w_inv = preprocess_image(\"./final_test_images/1w.jpg\", inverted=True)\n",
    "test_1d_inv = preprocess_image(\"./final_test_images/1d.png\", inverted=True)\n",
    "\n",
    "test_2w = preprocess_image(\"./final_test_images/2w.jpg\")\n",
    "test_2d = preprocess_image(\"./final_test_images/2d.png\")\n",
    "test_2w_inv = preprocess_image(\"./final_test_images/2w.jpg\", inverted=True)\n",
    "test_2d_inv = preprocess_image(\"./final_test_images/2d.png\", inverted=True)\n",
    "\n",
    "test_3w = preprocess_image(\"./final_test_images/3w.jpg\")\n",
    "test_3d = preprocess_image(\"./final_test_images/3d.png\")\n",
    "test_3w_inv = preprocess_image(\"./final_test_images/3w.jpg\", inverted=True)\n",
    "test_3d_inv = preprocess_image(\"./final_test_images/3d.png\", inverted=True)\n",
    "\n",
    "test_4w = preprocess_image(\"./final_test_images/4w.jpg\")\n",
    "test_4d = preprocess_image(\"./final_test_images/4d.png\")\n",
    "test_4w_inv = preprocess_image(\"./final_test_images/4w.jpg\", inverted=True)\n",
    "test_4d_inv = preprocess_image(\"./final_test_images/4d.png\", inverted=True)\n",
    "\n",
    "test_5w = preprocess_image(\"./final_test_images/5w.jpg\")\n",
    "test_5d = preprocess_image(\"./final_test_images/5d.png\")\n",
    "test_5w_inv = preprocess_image(\"./final_test_images/5w.jpg\", inverted=True)\n",
    "test_5d_inv = preprocess_image(\"./final_test_images/5d.png\", inverted=True)\n",
    "\n",
    "test_6w = preprocess_image(\"./final_test_images/6w.jpg\")\n",
    "test_6d = preprocess_image(\"./final_test_images/6d.png\")\n",
    "test_6w_inv = preprocess_image(\"./final_test_images/6w.jpg\", inverted=True)\n",
    "test_6d_inv = preprocess_image(\"./final_test_images/6d.png\", inverted=True)\n",
    "\n",
    "test_7w = preprocess_image(\"./final_test_images/7w.jpg\")\n",
    "test_7d = preprocess_image(\"./final_test_images/7d.png\")\n",
    "test_7w_inv = preprocess_image(\"./final_test_images/7w.jpg\", inverted=True)\n",
    "test_7d_inv = preprocess_image(\"./final_test_images/7d.png\", inverted=True)\n",
    "\n",
    "test_8w = preprocess_image(\"./final_test_images/8w.jpg\")\n",
    "test_8d = preprocess_image(\"./final_test_images/8d.png\")\n",
    "test_8w_inv = preprocess_image(\"./final_test_images/8w.jpg\", inverted=True)\n",
    "test_8d_inv = preprocess_image(\"./final_test_images/8d.png\", inverted=True)\n",
    "\n",
    "test_9w = preprocess_image(\"./final_test_images/9w.jpg\")\n",
    "test_9d = preprocess_image(\"./final_test_images/9d.png\")\n",
    "test_9w_inv = preprocess_image(\"./final_test_images/9w.jpg\", inverted=True)\n",
    "test_9d_inv = preprocess_image(\"./final_test_images/9d.png\", inverted=True)"
   ]
  },
  {
   "cell_type": "code",
   "execution_count": 18,
   "id": "b7b8c468-1bac-48be-a900-898af3c94959",
   "metadata": {},
   "outputs": [
    {
     "name": "stdout",
     "output_type": "stream",
     "text": [
      "Predicted Label:  0\n"
     ]
    },
    {
     "data": {
      "image/png": "[encoded data removed]",
      "text/plain": [
       "<Figure size 640x480 with 1 Axes>"
      ]
     },
     "metadata": {},
     "output_type": "display_data"
    },
    {
     "name": "stdout",
     "output_type": "stream",
     "text": [
      "[[9.9999452e-01 1.6509186e-07 4.7609183e-07 7.6556532e-08 5.1408287e-09\n",
      "  1.3784770e-06 4.3185091e-07 1.2229109e-06 1.1236517e-06 6.6552900e-07]]\n"
     ]
    }
   ],
   "source": [
    "# test 0d inverted\n",
    "image_predict = model.predict(test_0d_inv, verbose=0)\n",
    "print(\"Predicted Label: \", np.argmax(image_predict))\n",
    "plt.imshow(np.squeeze(test_0d_inv))\n",
    "plt.xticks([])\n",
    "plt.yticks([])\n",
    "plt.show()\n",
    "print(image_predict)"
   ]
  },
  {
   "cell_type": "code",
   "execution_count": 19,
   "id": "3da8eb42-b451-4399-91d2-9589e9f600c3",
   "metadata": {},
   "outputs": [
    {
     "name": "stdout",
     "output_type": "stream",
     "text": [
      "Predicted Label:  1\n"
     ]
    },
    {
     "data": {
      "image/png": "[encoded data removed]",
      "text/plain": [
       "<Figure size 640x480 with 1 Axes>"
      ]
     },
     "metadata": {},
     "output_type": "display_data"
    },
    {
     "name": "stdout",
     "output_type": "stream",
     "text": [
      "[[3.50578209e-13 9.99945521e-01 3.53402143e-08 2.33594292e-05\n",
      "  8.11351626e-08 1.48908175e-08 2.60699462e-10 3.09910174e-05\n",
      "  1.87791982e-14 5.30316624e-10]]\n"
     ]
    }
   ],
   "source": [
    "# test 1d inverted\n",
    "image_predict = model.predict(test_1d_inv, verbose=0)\n",
    "print(\"Predicted Label: \", np.argmax(image_predict))\n",
    "plt.imshow(np.squeeze(test_1d_inv))\n",
    "plt.xticks([])\n",
    "plt.yticks([])\n",
    "plt.show()\n",
    "print(image_predict)"
   ]
  },
  {
   "cell_type": "code",
   "execution_count": 20,
   "id": "fa39013d-858f-400c-bc76-1593bdd7fb15",
   "metadata": {},
   "outputs": [
    {
     "name": "stdout",
     "output_type": "stream",
     "text": [
      "Predicted Label:  2\n"
     ]
    },
    {
     "data": {
      "image/png": "[encoded data removed]",
      "text/plain": [
       "<Figure size 640x480 with 1 Axes>"
      ]
     },
     "metadata": {},
     "output_type": "display_data"
    },
    {
     "name": "stdout",
     "output_type": "stream",
     "text": [
      "[[4.1435145e-28 5.0263564e-25 1.0000000e+00 1.3561487e-16 1.1286234e-22\n",
      "  4.8639381e-22 1.7556762e-24 7.3789220e-21 1.5801811e-21 1.3718747e-21]]\n"
     ]
    }
   ],
   "source": [
    "# test 2d inverted\n",
    "image_predict = model.predict(test_2d_inv, verbose=0)\n",
    "print(\"Predicted Label: \", np.argmax(image_predict))\n",
    "plt.imshow(np.squeeze(test_2d_inv))\n",
    "plt.xticks([])\n",
    "plt.yticks([])\n",
    "plt.show()\n",
    "print(image_predict)"
   ]
  },
  {
   "cell_type": "code",
   "execution_count": 21,
   "id": "de5a36fb-f4d4-46f6-8908-9944ede47105",
   "metadata": {},
   "outputs": [
    {
     "name": "stdout",
     "output_type": "stream",
     "text": [
      "Predicted Label:  3\n"
     ]
    },
    {
     "data": {
      "image/png": "[encoded data removed]",
      "text/plain": [
       "<Figure size 640x480 with 1 Axes>"
      ]
     },
     "metadata": {},
     "output_type": "display_data"
    },
    {
     "name": "stdout",
     "output_type": "stream",
     "text": [
      "[[2.3917563e-31 6.0828207e-25 4.9765299e-22 1.0000000e+00 4.1816752e-26\n",
      "  1.1295290e-20 7.4537076e-25 4.1951274e-19 5.8155662e-19 1.5394792e-19]]\n"
     ]
    }
   ],
   "source": [
    "# test 3d inverted\n",
    "image_predict = model.predict(test_3d_inv, verbose=0)\n",
    "print(\"Predicted Label: \", np.argmax(image_predict))\n",
    "plt.imshow(np.squeeze(test_3d_inv))\n",
    "plt.xticks([])\n",
    "plt.yticks([])\n",
    "plt.show()\n",
    "print(image_predict)"
   ]
  },
  {
   "cell_type": "code",
   "execution_count": 22,
   "id": "e148ac4d-89cd-4401-ab10-0e5ecd9768c1",
   "metadata": {},
   "outputs": [
    {
     "name": "stdout",
     "output_type": "stream",
     "text": [
      "Predicted Label:  4\n"
     ]
    },
    {
     "data": {
      "image/png": "[encoded data removed]",
      "text/plain": [
       "<Figure size 640x480 with 1 Axes>"
      ]
     },
     "metadata": {},
     "output_type": "display_data"
    },
    {
     "name": "stdout",
     "output_type": "stream",
     "text": [
      "[[2.7745028e-19 7.9322389e-13 8.1404406e-14 7.0696953e-13 1.0000000e+00\n",
      "  1.4855838e-14 4.0896143e-16 9.7989472e-10 7.3665428e-11 2.3990371e-10]]\n"
     ]
    }
   ],
   "source": [
    "# test 4d inverted\n",
    "image_predict = model.predict(test_4d_inv, verbose=0)\n",
    "print(\"Predicted Label: \", np.argmax(image_predict))\n",
    "plt.imshow(np.squeeze(test_4d_inv))\n",
    "plt.xticks([])\n",
    "plt.yticks([])\n",
    "plt.show()\n",
    "print(image_predict)"
   ]
  },
  {
   "cell_type": "code",
   "execution_count": 23,
   "id": "ee52ca78-fa41-4b77-b540-4b72e5e0edf5",
   "metadata": {},
   "outputs": [
    {
     "name": "stdout",
     "output_type": "stream",
     "text": [
      "Predicted Label:  5\n"
     ]
    },
    {
     "data": {
      "image/png": "[encoded data removed]",
      "text/plain": [
       "<Figure size 640x480 with 1 Axes>"
      ]
     },
     "metadata": {},
     "output_type": "display_data"
    },
    {
     "name": "stdout",
     "output_type": "stream",
     "text": [
      "[[9.8350713e-28 9.1140343e-24 7.5833396e-26 5.6345765e-19 1.1567673e-24\n",
      "  1.0000000e+00 1.2652703e-17 1.2985083e-21 3.2217718e-19 1.6712912e-21]]\n"
     ]
    }
   ],
   "source": [
    "# test 5d inverted\n",
    "image_predict = model.predict(test_5d_inv, verbose=0)\n",
    "print(\"Predicted Label: \", np.argmax(image_predict))\n",
    "plt.imshow(np.squeeze(test_5d_inv))\n",
    "plt.xticks([])\n",
    "plt.yticks([])\n",
    "plt.show()\n",
    "print(image_predict)"
   ]
  },
  {
   "cell_type": "code",
   "execution_count": 24,
   "id": "7f1a72a7-4aa2-42e1-b8a2-29b70f7b54d1",
   "metadata": {},
   "outputs": [
    {
     "name": "stdout",
     "output_type": "stream",
     "text": [
      "Predicted Label:  6\n"
     ]
    },
    {
     "data": {
      "image/png": "[encoded data removed]",
      "text/plain": [
       "<Figure size 640x480 with 1 Axes>"
      ]
     },
     "metadata": {},
     "output_type": "display_data"
    },
    {
     "name": "stdout",
     "output_type": "stream",
     "text": [
      "[[1.26190907e-08 1.07469106e-07 4.74054059e-06 1.20207688e-09\n",
      "  1.92902121e-08 9.83013933e-07 9.99992371e-01 3.31112560e-08\n",
      "  1.81184703e-06 4.31987912e-09]]\n"
     ]
    }
   ],
   "source": [
    "# test 6d inverted\n",
    "image_predict = model.predict(test_6d_inv, verbose=0)\n",
    "print(\"Predicted Label: \", np.argmax(image_predict))\n",
    "plt.imshow(np.squeeze(test_6d_inv))\n",
    "plt.xticks([])\n",
    "plt.yticks([])\n",
    "plt.show()\n",
    "print(image_predict)"
   ]
  },
  {
   "cell_type": "code",
   "execution_count": 25,
   "id": "ebcf0bdd-1805-48e3-8d45-d0a18165f817",
   "metadata": {},
   "outputs": [
    {
     "name": "stdout",
     "output_type": "stream",
     "text": [
      "Predicted Label:  7\n"
     ]
    },
    {
     "data": {
      "image/png": "[encoded data removed]",
      "text/plain": [
       "<Figure size 640x480 with 1 Axes>"
      ]
     },
     "metadata": {},
     "output_type": "display_data"
    },
    {
     "name": "stdout",
     "output_type": "stream",
     "text": [
      "[[1.0331391e-20 2.5652554e-16 2.9078250e-12 9.6900647e-11 6.9510938e-17\n",
      "  1.7133178e-14 8.5856828e-17 1.0000000e+00 2.0424301e-18 3.5299759e-16]]\n"
     ]
    }
   ],
   "source": [
    "# test 7d inverted\n",
    "image_predict = model.predict(test_7d_inv, verbose=0)\n",
    "print(\"Predicted Label: \", np.argmax(image_predict))\n",
    "plt.imshow(np.squeeze(test_7d_inv))\n",
    "plt.xticks([])\n",
    "plt.yticks([])\n",
    "plt.show()\n",
    "print(image_predict)"
   ]
  },
  {
   "cell_type": "code",
   "execution_count": 26,
   "id": "d988ffdc-47be-440f-818c-78ba418207ad",
   "metadata": {},
   "outputs": [
    {
     "name": "stdout",
     "output_type": "stream",
     "text": [
      "Predicted Label:  8\n"
     ]
    },
    {
     "data": {
      "image/png": "[encoded data removed]",
      "text/plain": [
       "<Figure size 640x480 with 1 Axes>"
      ]
     },
     "metadata": {},
     "output_type": "display_data"
    },
    {
     "name": "stdout",
     "output_type": "stream",
     "text": [
      "[[3.5549502e-23 2.8479305e-23 5.8634615e-18 2.1718490e-20 9.4330863e-25\n",
      "  4.4906093e-21 5.3260240e-20 1.0259044e-21 1.0000000e+00 9.7073503e-17]]\n"
     ]
    }
   ],
   "source": [
    "# test 8d inverted\n",
    "image_predict = model.predict(test_8d_inv, verbose=0)\n",
    "print(\"Predicted Label: \", np.argmax(image_predict))\n",
    "plt.imshow(np.squeeze(test_8d_inv))\n",
    "plt.xticks([])\n",
    "plt.yticks([])\n",
    "plt.show()\n",
    "print(image_predict)"
   ]
  },
  {
   "cell_type": "code",
   "execution_count": 27,
   "id": "5c1ab5ac-71e1-4276-9c39-f2b9586f557b",
   "metadata": {},
   "outputs": [
    {
     "name": "stdout",
     "output_type": "stream",
     "text": [
      "Predicted Label:  9\n"
     ]
    },
    {
     "data": {
      "image/png": "[encoded data removed]",
      "text/plain": [
       "<Figure size 640x480 with 1 Axes>"
      ]
     },
     "metadata": {},
     "output_type": "display_data"
    },
    {
     "name": "stdout",
     "output_type": "stream",
     "text": [
      "[[3.9094086e-13 9.4017185e-09 7.0120021e-11 2.4930703e-13 1.0532793e-02\n",
      "  7.8045025e-13 1.4161086e-15 7.9886270e-08 2.4292029e-10 9.8946708e-01]]\n"
     ]
    }
   ],
   "source": [
    "# test 9d inverted\n",
    "image_predict = model.predict(test_9d_inv, verbose=0)\n",
    "print(\"Predicted Label: \", np.argmax(image_predict))\n",
    "plt.imshow(np.squeeze(test_9d_inv))\n",
    "plt.xticks([])\n",
    "plt.yticks([])\n",
    "plt.show()\n",
    "print(image_predict)"
   ]
  },
  {
   "cell_type": "code",
   "execution_count": 30,
   "id": "a292c755-25ba-4d40-ad7e-6472d8204d8d",
   "metadata": {},
   "outputs": [],
   "source": [
    "# lets export our model\n",
    "model.save(\"best.keras\")"
   ]
  },
  {
   "cell_type": "code",
   "execution_count": null,
   "id": "560f34ff-1802-4ac2-bf0c-38d244b0db3c",
   "metadata": {},
   "outputs": [],
   "source": []
  }
 ],
 "metadata": {
  "kernelspec": {
   "display_name": "Python 3 (ipykernel)",
   "language": "python",
   "name": "python3"
  },
  "language_info": {
   "codemirror_mode": {
    "name": "ipython",
    "version": 3
   },
   "file_extension": ".py",
   "mimetype": "text/x-python",
   "name": "python",
   "nbconvert_exporter": "python",
   "pygments_lexer": "ipython3",
   "version": "3.10.13"
  }
 },
 "nbformat": 4,
 "nbformat_minor": 5
}
